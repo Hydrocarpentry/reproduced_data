{
 "cells": [
  {
   "cell_type": "code",
   "execution_count": 6,
   "metadata": {},
   "outputs": [
    {
     "data": {
      "text/html": [
       "<ol class=list-inline>\n",
       "\t<li>'X'</li>\n",
       "\t<li>'event_date'</li>\n",
       "\t<li>'event_name'</li>\n",
       "\t<li>'num_flooded'</li>\n",
       "\t<li>'WDF2'</li>\n",
       "\t<li>'WSF2'</li>\n",
       "\t<li>'AWDR'</li>\n",
       "\t<li>'AWND'</li>\n",
       "\t<li>'WGF6'</li>\n",
       "\t<li>'ht'</li>\n",
       "\t<li>'hht'</li>\n",
       "\t<li>'lt'</li>\n",
       "\t<li>'llt'</li>\n",
       "\t<li>'r15_td'</li>\n",
       "\t<li>'rhr_td'</li>\n",
       "\t<li>'td_av'</li>\n",
       "\t<li>'gw_av'</li>\n",
       "\t<li>'r15mx'</li>\n",
       "\t<li>'rhrmx'</li>\n",
       "\t<li>'rd'</li>\n",
       "\t<li>'r3d'</li>\n",
       "</ol>\n"
      ],
      "text/latex": [
       "\\begin{enumerate*}\n",
       "\\item 'X'\n",
       "\\item 'event\\_date'\n",
       "\\item 'event\\_name'\n",
       "\\item 'num\\_flooded'\n",
       "\\item 'WDF2'\n",
       "\\item 'WSF2'\n",
       "\\item 'AWDR'\n",
       "\\item 'AWND'\n",
       "\\item 'WGF6'\n",
       "\\item 'ht'\n",
       "\\item 'hht'\n",
       "\\item 'lt'\n",
       "\\item 'llt'\n",
       "\\item 'r15\\_td'\n",
       "\\item 'rhr\\_td'\n",
       "\\item 'td\\_av'\n",
       "\\item 'gw\\_av'\n",
       "\\item 'r15mx'\n",
       "\\item 'rhrmx'\n",
       "\\item 'rd'\n",
       "\\item 'r3d'\n",
       "\\end{enumerate*}\n"
      ],
      "text/markdown": [
       "1. 'X'\n",
       "2. 'event_date'\n",
       "3. 'event_name'\n",
       "4. 'num_flooded'\n",
       "5. 'WDF2'\n",
       "6. 'WSF2'\n",
       "7. 'AWDR'\n",
       "8. 'AWND'\n",
       "9. 'WGF6'\n",
       "10. 'ht'\n",
       "11. 'hht'\n",
       "12. 'lt'\n",
       "13. 'llt'\n",
       "14. 'r15_td'\n",
       "15. 'rhr_td'\n",
       "16. 'td_av'\n",
       "17. 'gw_av'\n",
       "18. 'r15mx'\n",
       "19. 'rhrmx'\n",
       "20. 'rd'\n",
       "21. 'r3d'\n",
       "\n",
       "\n"
      ],
      "text/plain": [
       " [1] \"X\"           \"event_date\"  \"event_name\"  \"num_flooded\" \"WDF2\"       \n",
       " [6] \"WSF2\"        \"AWDR\"        \"AWND\"        \"WGF6\"        \"ht\"         \n",
       "[11] \"hht\"         \"lt\"          \"llt\"         \"r15_td\"      \"rhr_td\"     \n",
       "[16] \"td_av\"       \"gw_av\"       \"r15mx\"       \"rhrmx\"       \"rd\"         \n",
       "[21] \"r3d\"        "
      ]
     },
     "metadata": {},
     "output_type": "display_data"
    },
    {
     "name": "stdout",
     "output_type": "stream",
     "text": [
      "[1] \"run: 1\"\n",
      "[1] \"run: 1\"\n",
      "[1] \"normalizing\"\n"
     ]
    },
    {
     "name": "stderr",
     "output_type": "stream",
     "text": [
      "Warning message:\n",
      "“glm.fit: fitted rates numerically 0 occurred”"
     ]
    },
    {
     "name": "stdout",
     "output_type": "stream",
     "text": [
      "[1] \"run: 2\"\n",
      "[1] \"run: 2\"\n",
      "[1] \"normalizing\"\n"
     ]
    },
    {
     "name": "stderr",
     "output_type": "stream",
     "text": [
      "Warning message:\n",
      "“glm.fit: fitted rates numerically 0 occurred”"
     ]
    },
    {
     "name": "stdout",
     "output_type": "stream",
     "text": [
      "[1] \"run: 3\"\n",
      "[1] \"run: 3\"\n",
      "[1] \"normalizing\"\n"
     ]
    },
    {
     "name": "stderr",
     "output_type": "stream",
     "text": [
      "Warning message:\n",
      "“glm.fit: fitted rates numerically 0 occurred”"
     ]
    },
    {
     "name": "stdout",
     "output_type": "stream",
     "text": [
      "[1] \"run: 4\"\n",
      "[1] \"run: 4\"\n",
      "[1] \"normalizing\"\n"
     ]
    },
    {
     "name": "stderr",
     "output_type": "stream",
     "text": [
      "Warning message:\n",
      "“glm.fit: fitted rates numerically 0 occurred”"
     ]
    },
    {
     "name": "stdout",
     "output_type": "stream",
     "text": [
      "[1] \"run: 5\"\n",
      "[1] \"run: 5\"\n",
      "[1] \"normalizing\"\n"
     ]
    },
    {
     "name": "stderr",
     "output_type": "stream",
     "text": [
      "Warning message:\n",
      "“glm.fit: fitted rates numerically 0 occurred”"
     ]
    },
    {
     "name": "stdout",
     "output_type": "stream",
     "text": [
      "[1] \"run: 6\"\n",
      "[1] \"run: 6\"\n",
      "[1] \"normalizing\"\n"
     ]
    },
    {
     "name": "stderr",
     "output_type": "stream",
     "text": [
      "Warning message:\n",
      "“glm.fit: fitted rates numerically 0 occurred”"
     ]
    },
    {
     "name": "stdout",
     "output_type": "stream",
     "text": [
      "[1] \"run: 7\"\n",
      "[1] \"run: 7\"\n",
      "[1] \"normalizing\"\n"
     ]
    },
    {
     "name": "stderr",
     "output_type": "stream",
     "text": [
      "Warning message:\n",
      "“glm.fit: fitted rates numerically 0 occurred”"
     ]
    },
    {
     "name": "stdout",
     "output_type": "stream",
     "text": [
      "[1] \"run: 8\"\n",
      "[1] \"run: 8\"\n",
      "[1] \"normalizing\"\n"
     ]
    },
    {
     "name": "stderr",
     "output_type": "stream",
     "text": [
      "Warning message:\n",
      "“glm.fit: fitted rates numerically 0 occurred”"
     ]
    },
    {
     "name": "stdout",
     "output_type": "stream",
     "text": [
      "[1] \"run: 9\"\n",
      "[1] \"run: 9\"\n",
      "[1] \"normalizing\"\n"
     ]
    },
    {
     "name": "stderr",
     "output_type": "stream",
     "text": [
      "Warning message:\n",
      "“glm.fit: fitted rates numerically 0 occurred”"
     ]
    },
    {
     "name": "stdout",
     "output_type": "stream",
     "text": [
      "[1] \"run: 10\"\n",
      "[1] \"run: 10\"\n",
      "[1] \"normalizing\"\n"
     ]
    },
    {
     "name": "stderr",
     "output_type": "stream",
     "text": [
      "Warning message:\n",
      "“glm.fit: fitted rates numerically 0 occurred”"
     ]
    },
    {
     "name": "stdout",
     "output_type": "stream",
     "text": [
      "[1] \"run: 11\"\n",
      "[1] \"run: 11\"\n",
      "[1] \"normalizing\"\n"
     ]
    },
    {
     "name": "stderr",
     "output_type": "stream",
     "text": [
      "Warning message:\n",
      "“glm.fit: fitted rates numerically 0 occurred”"
     ]
    },
    {
     "name": "stdout",
     "output_type": "stream",
     "text": [
      "[1] \"run: 12\"\n",
      "[1] \"run: 12\"\n",
      "[1] \"normalizing\"\n"
     ]
    },
    {
     "name": "stderr",
     "output_type": "stream",
     "text": [
      "Warning message:\n",
      "“glm.fit: fitted rates numerically 0 occurred”"
     ]
    },
    {
     "name": "stdout",
     "output_type": "stream",
     "text": [
      "[1] \"run: 13\"\n",
      "[1] \"run: 13\"\n",
      "[1] \"normalizing\"\n"
     ]
    },
    {
     "name": "stderr",
     "output_type": "stream",
     "text": [
      "Warning message:\n",
      "“glm.fit: fitted rates numerically 0 occurred”"
     ]
    },
    {
     "name": "stdout",
     "output_type": "stream",
     "text": [
      "[1] \"run: 14\"\n",
      "[1] \"run: 14\"\n",
      "[1] \"normalizing\"\n"
     ]
    },
    {
     "name": "stderr",
     "output_type": "stream",
     "text": [
      "Warning message:\n",
      "“glm.fit: fitted rates numerically 0 occurred”"
     ]
    },
    {
     "name": "stdout",
     "output_type": "stream",
     "text": [
      "[1] \"run: 15\"\n",
      "[1] \"run: 15\"\n",
      "[1] \"normalizing\"\n"
     ]
    },
    {
     "name": "stderr",
     "output_type": "stream",
     "text": [
      "Warning message:\n",
      "“glm.fit: fitted rates numerically 0 occurred”"
     ]
    },
    {
     "name": "stdout",
     "output_type": "stream",
     "text": [
      "[1] \"run: 16\"\n",
      "[1] \"run: 16\"\n",
      "[1] \"normalizing\"\n"
     ]
    },
    {
     "name": "stderr",
     "output_type": "stream",
     "text": [
      "Warning message:\n",
      "“glm.fit: fitted rates numerically 0 occurred”"
     ]
    },
    {
     "name": "stdout",
     "output_type": "stream",
     "text": [
      "[1] \"run: 17\"\n",
      "[1] \"run: 17\"\n",
      "[1] \"normalizing\"\n"
     ]
    },
    {
     "name": "stderr",
     "output_type": "stream",
     "text": [
      "Warning message:\n",
      "“glm.fit: fitted rates numerically 0 occurred”"
     ]
    },
    {
     "name": "stdout",
     "output_type": "stream",
     "text": [
      "[1] \"run: 18\"\n",
      "[1] \"run: 18\"\n",
      "[1] \"normalizing\"\n"
     ]
    },
    {
     "name": "stderr",
     "output_type": "stream",
     "text": [
      "Warning message:\n",
      "“glm.fit: fitted rates numerically 0 occurred”"
     ]
    },
    {
     "name": "stdout",
     "output_type": "stream",
     "text": [
      "[1] \"run: 19\"\n",
      "[1] \"run: 19\"\n",
      "[1] \"normalizing\"\n"
     ]
    },
    {
     "name": "stderr",
     "output_type": "stream",
     "text": [
      "Warning message:\n",
      "“glm.fit: fitted rates numerically 0 occurred”"
     ]
    },
    {
     "name": "stdout",
     "output_type": "stream",
     "text": [
      "[1] \"run: 20\"\n",
      "[1] \"run: 20\"\n",
      "[1] \"normalizing\"\n"
     ]
    },
    {
     "name": "stderr",
     "output_type": "stream",
     "text": [
      "Warning message:\n",
      "“glm.fit: fitted rates numerically 0 occurred”"
     ]
    },
    {
     "name": "stdout",
     "output_type": "stream",
     "text": [
      "[1] \"run: 21\"\n",
      "[1] \"run: 21\"\n",
      "[1] \"normalizing\"\n"
     ]
    },
    {
     "name": "stderr",
     "output_type": "stream",
     "text": [
      "Warning message:\n",
      "“glm.fit: fitted rates numerically 0 occurred”"
     ]
    },
    {
     "name": "stdout",
     "output_type": "stream",
     "text": [
      "[1] \"run: 22\"\n",
      "[1] \"run: 22\"\n",
      "[1] \"normalizing\"\n"
     ]
    },
    {
     "name": "stderr",
     "output_type": "stream",
     "text": [
      "Warning message:\n",
      "“glm.fit: fitted rates numerically 0 occurred”"
     ]
    },
    {
     "name": "stdout",
     "output_type": "stream",
     "text": [
      "[1] \"run: 23\"\n",
      "[1] \"run: 23\"\n",
      "[1] \"normalizing\"\n"
     ]
    },
    {
     "name": "stderr",
     "output_type": "stream",
     "text": [
      "Warning message:\n",
      "“glm.fit: fitted rates numerically 0 occurred”"
     ]
    },
    {
     "name": "stdout",
     "output_type": "stream",
     "text": [
      "[1] \"run: 24\"\n",
      "[1] \"run: 24\"\n",
      "[1] \"normalizing\"\n"
     ]
    },
    {
     "name": "stderr",
     "output_type": "stream",
     "text": [
      "Warning message:\n",
      "“glm.fit: fitted rates numerically 0 occurred”"
     ]
    },
    {
     "name": "stdout",
     "output_type": "stream",
     "text": [
      "[1] \"run: 25\"\n",
      "[1] \"run: 25\"\n",
      "[1] \"normalizing\"\n"
     ]
    },
    {
     "name": "stderr",
     "output_type": "stream",
     "text": [
      "Warning message:\n",
      "“glm.fit: fitted rates numerically 0 occurred”"
     ]
    },
    {
     "name": "stdout",
     "output_type": "stream",
     "text": [
      "[1] \"run: 26\"\n",
      "[1] \"run: 26\"\n",
      "[1] \"normalizing\"\n"
     ]
    },
    {
     "name": "stderr",
     "output_type": "stream",
     "text": [
      "Warning message:\n",
      "“glm.fit: fitted rates numerically 0 occurred”"
     ]
    },
    {
     "name": "stdout",
     "output_type": "stream",
     "text": [
      "[1] \"run: 27\"\n",
      "[1] \"run: 27\"\n",
      "[1] \"normalizing\"\n"
     ]
    },
    {
     "name": "stderr",
     "output_type": "stream",
     "text": [
      "Warning message:\n",
      "“glm.fit: fitted rates numerically 0 occurred”"
     ]
    },
    {
     "name": "stdout",
     "output_type": "stream",
     "text": [
      "[1] \"run: 28\"\n",
      "[1] \"run: 28\"\n",
      "[1] \"normalizing\"\n"
     ]
    },
    {
     "name": "stderr",
     "output_type": "stream",
     "text": [
      "Warning message:\n",
      "“glm.fit: fitted rates numerically 0 occurred”"
     ]
    },
    {
     "name": "stdout",
     "output_type": "stream",
     "text": [
      "[1] \"run: 29\"\n",
      "[1] \"run: 29\"\n",
      "[1] \"normalizing\"\n"
     ]
    },
    {
     "name": "stderr",
     "output_type": "stream",
     "text": [
      "Warning message:\n",
      "“glm.fit: fitted rates numerically 0 occurred”"
     ]
    },
    {
     "name": "stdout",
     "output_type": "stream",
     "text": [
      "[1] \"run: 30\"\n",
      "[1] \"run: 30\"\n",
      "[1] \"normalizing\"\n"
     ]
    },
    {
     "name": "stderr",
     "output_type": "stream",
     "text": [
      "Warning message:\n",
      "“glm.fit: fitted rates numerically 0 occurred”"
     ]
    },
    {
     "name": "stdout",
     "output_type": "stream",
     "text": [
      "[1] \"run: 31\"\n",
      "[1] \"run: 31\"\n",
      "[1] \"normalizing\"\n"
     ]
    },
    {
     "name": "stderr",
     "output_type": "stream",
     "text": [
      "Warning message:\n",
      "“glm.fit: fitted rates numerically 0 occurred”"
     ]
    },
    {
     "name": "stdout",
     "output_type": "stream",
     "text": [
      "[1] \"run: 32\"\n",
      "[1] \"run: 32\"\n",
      "[1] \"normalizing\"\n"
     ]
    },
    {
     "name": "stderr",
     "output_type": "stream",
     "text": [
      "Warning message:\n",
      "“glm.fit: fitted rates numerically 0 occurred”"
     ]
    },
    {
     "name": "stdout",
     "output_type": "stream",
     "text": [
      "[1] \"run: 33\"\n",
      "[1] \"run: 33\"\n",
      "[1] \"normalizing\"\n"
     ]
    },
    {
     "name": "stderr",
     "output_type": "stream",
     "text": [
      "Warning message:\n",
      "“glm.fit: fitted rates numerically 0 occurred”"
     ]
    },
    {
     "name": "stdout",
     "output_type": "stream",
     "text": [
      "[1] \"run: 34\"\n",
      "[1] \"run: 34\"\n",
      "[1] \"normalizing\"\n"
     ]
    },
    {
     "name": "stderr",
     "output_type": "stream",
     "text": [
      "Warning message:\n",
      "“glm.fit: fitted rates numerically 0 occurred”"
     ]
    },
    {
     "name": "stdout",
     "output_type": "stream",
     "text": [
      "[1] \"run: 35\"\n",
      "[1] \"run: 35\"\n",
      "[1] \"normalizing\"\n"
     ]
    },
    {
     "name": "stderr",
     "output_type": "stream",
     "text": [
      "Warning message:\n",
      "“glm.fit: fitted rates numerically 0 occurred”"
     ]
    },
    {
     "name": "stdout",
     "output_type": "stream",
     "text": [
      "[1] \"run: 36\"\n",
      "[1] \"run: 36\"\n",
      "[1] \"normalizing\"\n"
     ]
    },
    {
     "name": "stderr",
     "output_type": "stream",
     "text": [
      "Warning message:\n",
      "“glm.fit: fitted rates numerically 0 occurred”"
     ]
    },
    {
     "name": "stdout",
     "output_type": "stream",
     "text": [
      "[1] \"run: 37\"\n",
      "[1] \"run: 37\"\n",
      "[1] \"normalizing\"\n"
     ]
    },
    {
     "name": "stderr",
     "output_type": "stream",
     "text": [
      "Warning message:\n",
      "“glm.fit: fitted rates numerically 0 occurred”"
     ]
    },
    {
     "name": "stdout",
     "output_type": "stream",
     "text": [
      "[1] \"run: 38\"\n",
      "[1] \"run: 38\"\n",
      "[1] \"normalizing\"\n"
     ]
    },
    {
     "name": "stderr",
     "output_type": "stream",
     "text": [
      "Warning message:\n",
      "“glm.fit: fitted rates numerically 0 occurred”"
     ]
    },
    {
     "name": "stdout",
     "output_type": "stream",
     "text": [
      "[1] \"run: 39\"\n",
      "[1] \"run: 39\"\n",
      "[1] \"normalizing\"\n"
     ]
    },
    {
     "name": "stderr",
     "output_type": "stream",
     "text": [
      "Warning message:\n",
      "“glm.fit: fitted rates numerically 0 occurred”"
     ]
    },
    {
     "name": "stdout",
     "output_type": "stream",
     "text": [
      "[1] \"run: 40\"\n",
      "[1] \"run: 40\"\n",
      "[1] \"normalizing\"\n"
     ]
    },
    {
     "name": "stderr",
     "output_type": "stream",
     "text": [
      "Warning message:\n",
      "“glm.fit: fitted rates numerically 0 occurred”"
     ]
    },
    {
     "name": "stdout",
     "output_type": "stream",
     "text": [
      "[1] \"run: 41\"\n",
      "[1] \"run: 41\"\n",
      "[1] \"normalizing\"\n"
     ]
    },
    {
     "name": "stderr",
     "output_type": "stream",
     "text": [
      "Warning message:\n",
      "“glm.fit: fitted rates numerically 0 occurred”"
     ]
    },
    {
     "name": "stdout",
     "output_type": "stream",
     "text": [
      "[1] \"run: 42\"\n",
      "[1] \"run: 42\"\n",
      "[1] \"normalizing\"\n"
     ]
    },
    {
     "name": "stderr",
     "output_type": "stream",
     "text": [
      "Warning message:\n",
      "“glm.fit: fitted rates numerically 0 occurred”"
     ]
    },
    {
     "name": "stdout",
     "output_type": "stream",
     "text": [
      "[1] \"run: 43\"\n",
      "[1] \"run: 43\"\n",
      "[1] \"normalizing\"\n"
     ]
    },
    {
     "name": "stderr",
     "output_type": "stream",
     "text": [
      "Warning message:\n",
      "“glm.fit: fitted rates numerically 0 occurred”"
     ]
    },
    {
     "name": "stdout",
     "output_type": "stream",
     "text": [
      "[1] \"run: 44\"\n",
      "[1] \"run: 44\"\n",
      "[1] \"normalizing\"\n"
     ]
    },
    {
     "name": "stderr",
     "output_type": "stream",
     "text": [
      "Warning message:\n",
      "“glm.fit: fitted rates numerically 0 occurred”"
     ]
    },
    {
     "name": "stdout",
     "output_type": "stream",
     "text": [
      "[1] \"run: 45\"\n",
      "[1] \"run: 45\"\n",
      "[1] \"normalizing\"\n"
     ]
    },
    {
     "name": "stderr",
     "output_type": "stream",
     "text": [
      "Warning message:\n",
      "“glm.fit: fitted rates numerically 0 occurred”"
     ]
    },
    {
     "name": "stdout",
     "output_type": "stream",
     "text": [
      "[1] \"run: 46\"\n",
      "[1] \"run: 46\"\n",
      "[1] \"normalizing\"\n"
     ]
    },
    {
     "name": "stderr",
     "output_type": "stream",
     "text": [
      "Warning message:\n",
      "“glm.fit: fitted rates numerically 0 occurred”"
     ]
    },
    {
     "name": "stdout",
     "output_type": "stream",
     "text": [
      "[1] \"run: 47\"\n",
      "[1] \"run: 47\"\n",
      "[1] \"normalizing\"\n"
     ]
    },
    {
     "name": "stderr",
     "output_type": "stream",
     "text": [
      "Warning message:\n",
      "“glm.fit: fitted rates numerically 0 occurred”"
     ]
    },
    {
     "name": "stdout",
     "output_type": "stream",
     "text": [
      "[1] \"run: 48\"\n",
      "[1] \"run: 48\"\n",
      "[1] \"normalizing\"\n"
     ]
    },
    {
     "name": "stderr",
     "output_type": "stream",
     "text": [
      "Warning message:\n",
      "“glm.fit: fitted rates numerically 0 occurred”"
     ]
    },
    {
     "name": "stdout",
     "output_type": "stream",
     "text": [
      "[1] \"run: 49\"\n",
      "[1] \"run: 49\"\n",
      "[1] \"normalizing\"\n"
     ]
    },
    {
     "name": "stderr",
     "output_type": "stream",
     "text": [
      "Warning message:\n",
      "“glm.fit: fitted rates numerically 0 occurred”"
     ]
    },
    {
     "name": "stdout",
     "output_type": "stream",
     "text": [
      "[1] \"run: 50\"\n",
      "[1] \"run: 50\"\n",
      "[1] \"normalizing\"\n"
     ]
    },
    {
     "name": "stderr",
     "output_type": "stream",
     "text": [
      "Warning message:\n",
      "“glm.fit: fitted rates numerically 0 occurred”"
     ]
    },
    {
     "name": "stdout",
     "output_type": "stream",
     "text": [
      "[1] \"run: 51\"\n",
      "[1] \"run: 51\"\n",
      "[1] \"normalizing\"\n"
     ]
    },
    {
     "name": "stderr",
     "output_type": "stream",
     "text": [
      "Warning message:\n",
      "“glm.fit: fitted rates numerically 0 occurred”"
     ]
    },
    {
     "name": "stdout",
     "output_type": "stream",
     "text": [
      "[1] \"run: 52\"\n",
      "[1] \"run: 52\"\n",
      "[1] \"normalizing\"\n"
     ]
    },
    {
     "name": "stderr",
     "output_type": "stream",
     "text": [
      "Warning message:\n",
      "“glm.fit: fitted rates numerically 0 occurred”"
     ]
    },
    {
     "name": "stdout",
     "output_type": "stream",
     "text": [
      "[1] \"run: 53\"\n",
      "[1] \"run: 53\"\n",
      "[1] \"normalizing\"\n"
     ]
    },
    {
     "name": "stderr",
     "output_type": "stream",
     "text": [
      "Warning message:\n",
      "“glm.fit: fitted rates numerically 0 occurred”"
     ]
    },
    {
     "name": "stdout",
     "output_type": "stream",
     "text": [
      "[1] \"run: 54\"\n",
      "[1] \"run: 54\"\n",
      "[1] \"normalizing\"\n"
     ]
    },
    {
     "name": "stderr",
     "output_type": "stream",
     "text": [
      "Warning message:\n",
      "“glm.fit: fitted rates numerically 0 occurred”"
     ]
    },
    {
     "name": "stdout",
     "output_type": "stream",
     "text": [
      "[1] \"run: 55\"\n",
      "[1] \"run: 55\"\n",
      "[1] \"normalizing\"\n"
     ]
    },
    {
     "name": "stderr",
     "output_type": "stream",
     "text": [
      "Warning message:\n",
      "“glm.fit: fitted rates numerically 0 occurred”"
     ]
    },
    {
     "name": "stdout",
     "output_type": "stream",
     "text": [
      "[1] \"run: 56\"\n",
      "[1] \"run: 56\"\n",
      "[1] \"normalizing\"\n"
     ]
    },
    {
     "name": "stderr",
     "output_type": "stream",
     "text": [
      "Warning message:\n",
      "“glm.fit: fitted rates numerically 0 occurred”"
     ]
    },
    {
     "name": "stdout",
     "output_type": "stream",
     "text": [
      "[1] \"run: 57\"\n",
      "[1] \"run: 57\"\n",
      "[1] \"normalizing\"\n"
     ]
    },
    {
     "name": "stderr",
     "output_type": "stream",
     "text": [
      "Warning message:\n",
      "“glm.fit: fitted rates numerically 0 occurred”"
     ]
    },
    {
     "name": "stdout",
     "output_type": "stream",
     "text": [
      "[1] \"run: 58\"\n",
      "[1] \"run: 58\"\n",
      "[1] \"normalizing\"\n"
     ]
    },
    {
     "name": "stderr",
     "output_type": "stream",
     "text": [
      "Warning message:\n",
      "“glm.fit: fitted rates numerically 0 occurred”"
     ]
    },
    {
     "name": "stdout",
     "output_type": "stream",
     "text": [
      "[1] \"run: 59\"\n",
      "[1] \"run: 59\"\n",
      "[1] \"normalizing\"\n"
     ]
    },
    {
     "name": "stderr",
     "output_type": "stream",
     "text": [
      "Warning message:\n",
      "“glm.fit: fitted rates numerically 0 occurred”"
     ]
    },
    {
     "name": "stdout",
     "output_type": "stream",
     "text": [
      "[1] \"run: 60\"\n",
      "[1] \"run: 60\"\n",
      "[1] \"normalizing\"\n"
     ]
    },
    {
     "name": "stderr",
     "output_type": "stream",
     "text": [
      "Warning message:\n",
      "“glm.fit: fitted rates numerically 0 occurred”"
     ]
    },
    {
     "name": "stdout",
     "output_type": "stream",
     "text": [
      "[1] \"run: 61\"\n",
      "[1] \"run: 61\"\n",
      "[1] \"normalizing\"\n"
     ]
    },
    {
     "name": "stderr",
     "output_type": "stream",
     "text": [
      "Warning message:\n",
      "“glm.fit: fitted rates numerically 0 occurred”"
     ]
    },
    {
     "name": "stdout",
     "output_type": "stream",
     "text": [
      "[1] \"run: 62\"\n",
      "[1] \"run: 62\"\n",
      "[1] \"normalizing\"\n"
     ]
    },
    {
     "name": "stderr",
     "output_type": "stream",
     "text": [
      "Warning message:\n",
      "“glm.fit: fitted rates numerically 0 occurred”"
     ]
    },
    {
     "name": "stdout",
     "output_type": "stream",
     "text": [
      "[1] \"run: 63\"\n",
      "[1] \"run: 63\"\n",
      "[1] \"normalizing\"\n"
     ]
    },
    {
     "name": "stderr",
     "output_type": "stream",
     "text": [
      "Warning message:\n",
      "“glm.fit: fitted rates numerically 0 occurred”"
     ]
    },
    {
     "name": "stdout",
     "output_type": "stream",
     "text": [
      "[1] \"run: 64\"\n",
      "[1] \"run: 64\"\n",
      "[1] \"normalizing\"\n"
     ]
    },
    {
     "name": "stderr",
     "output_type": "stream",
     "text": [
      "Warning message:\n",
      "“glm.fit: fitted rates numerically 0 occurred”"
     ]
    },
    {
     "name": "stdout",
     "output_type": "stream",
     "text": [
      "[1] \"run: 65\"\n",
      "[1] \"run: 65\"\n",
      "[1] \"normalizing\"\n"
     ]
    },
    {
     "name": "stderr",
     "output_type": "stream",
     "text": [
      "Warning message:\n",
      "“glm.fit: fitted rates numerically 0 occurred”"
     ]
    },
    {
     "name": "stdout",
     "output_type": "stream",
     "text": [
      "[1] \"run: 66\"\n",
      "[1] \"run: 66\"\n",
      "[1] \"normalizing\"\n"
     ]
    },
    {
     "name": "stderr",
     "output_type": "stream",
     "text": [
      "Warning message:\n",
      "“glm.fit: fitted rates numerically 0 occurred”"
     ]
    },
    {
     "name": "stdout",
     "output_type": "stream",
     "text": [
      "[1] \"run: 67\"\n",
      "[1] \"run: 67\"\n",
      "[1] \"normalizing\"\n"
     ]
    },
    {
     "name": "stderr",
     "output_type": "stream",
     "text": [
      "Warning message:\n",
      "“glm.fit: fitted rates numerically 0 occurred”"
     ]
    },
    {
     "name": "stdout",
     "output_type": "stream",
     "text": [
      "[1] \"run: 68\"\n",
      "[1] \"run: 68\"\n",
      "[1] \"normalizing\"\n"
     ]
    },
    {
     "name": "stderr",
     "output_type": "stream",
     "text": [
      "Warning message:\n",
      "“glm.fit: fitted rates numerically 0 occurred”"
     ]
    },
    {
     "name": "stdout",
     "output_type": "stream",
     "text": [
      "[1] \"run: 69\"\n",
      "[1] \"run: 69\"\n",
      "[1] \"normalizing\"\n"
     ]
    },
    {
     "name": "stderr",
     "output_type": "stream",
     "text": [
      "Warning message:\n",
      "“glm.fit: fitted rates numerically 0 occurred”"
     ]
    },
    {
     "name": "stdout",
     "output_type": "stream",
     "text": [
      "[1] \"run: 70\"\n",
      "[1] \"run: 70\"\n",
      "[1] \"normalizing\"\n"
     ]
    },
    {
     "name": "stderr",
     "output_type": "stream",
     "text": [
      "Warning message:\n",
      "“glm.fit: fitted rates numerically 0 occurred”"
     ]
    },
    {
     "name": "stdout",
     "output_type": "stream",
     "text": [
      "[1] \"run: 71\"\n",
      "[1] \"run: 71\"\n",
      "[1] \"normalizing\"\n"
     ]
    },
    {
     "name": "stderr",
     "output_type": "stream",
     "text": [
      "Warning message:\n",
      "“glm.fit: fitted rates numerically 0 occurred”"
     ]
    },
    {
     "name": "stdout",
     "output_type": "stream",
     "text": [
      "[1] \"run: 72\"\n",
      "[1] \"run: 72\"\n",
      "[1] \"normalizing\"\n"
     ]
    },
    {
     "name": "stderr",
     "output_type": "stream",
     "text": [
      "Warning message:\n",
      "“glm.fit: fitted rates numerically 0 occurred”"
     ]
    },
    {
     "name": "stdout",
     "output_type": "stream",
     "text": [
      "[1] \"run: 73\"\n",
      "[1] \"run: 73\"\n",
      "[1] \"normalizing\"\n"
     ]
    },
    {
     "name": "stderr",
     "output_type": "stream",
     "text": [
      "Warning message:\n",
      "“glm.fit: fitted rates numerically 0 occurred”"
     ]
    },
    {
     "name": "stdout",
     "output_type": "stream",
     "text": [
      "[1] \"run: 74\"\n",
      "[1] \"run: 74\"\n",
      "[1] \"normalizing\"\n"
     ]
    },
    {
     "name": "stderr",
     "output_type": "stream",
     "text": [
      "Warning message:\n",
      "“glm.fit: fitted rates numerically 0 occurred”"
     ]
    },
    {
     "name": "stdout",
     "output_type": "stream",
     "text": [
      "[1] \"run: 75\"\n",
      "[1] \"run: 75\"\n",
      "[1] \"normalizing\"\n"
     ]
    },
    {
     "name": "stderr",
     "output_type": "stream",
     "text": [
      "Warning message:\n",
      "“glm.fit: fitted rates numerically 0 occurred”"
     ]
    },
    {
     "name": "stdout",
     "output_type": "stream",
     "text": [
      "[1] \"run: 76\"\n",
      "[1] \"run: 76\"\n",
      "[1] \"normalizing\"\n"
     ]
    },
    {
     "name": "stderr",
     "output_type": "stream",
     "text": [
      "Warning message:\n",
      "“glm.fit: fitted rates numerically 0 occurred”"
     ]
    },
    {
     "name": "stdout",
     "output_type": "stream",
     "text": [
      "[1] \"run: 77\"\n",
      "[1] \"run: 77\"\n",
      "[1] \"normalizing\"\n"
     ]
    },
    {
     "name": "stderr",
     "output_type": "stream",
     "text": [
      "Warning message:\n",
      "“glm.fit: fitted rates numerically 0 occurred”"
     ]
    },
    {
     "name": "stdout",
     "output_type": "stream",
     "text": [
      "[1] \"run: 78\"\n",
      "[1] \"run: 78\"\n",
      "[1] \"normalizing\"\n"
     ]
    },
    {
     "name": "stderr",
     "output_type": "stream",
     "text": [
      "Warning message:\n",
      "“glm.fit: fitted rates numerically 0 occurred”"
     ]
    },
    {
     "name": "stdout",
     "output_type": "stream",
     "text": [
      "[1] \"run: 79\"\n",
      "[1] \"run: 79\"\n",
      "[1] \"normalizing\"\n"
     ]
    },
    {
     "name": "stderr",
     "output_type": "stream",
     "text": [
      "Warning message:\n",
      "“glm.fit: fitted rates numerically 0 occurred”"
     ]
    },
    {
     "name": "stdout",
     "output_type": "stream",
     "text": [
      "[1] \"run: 80\"\n",
      "[1] \"run: 80\"\n",
      "[1] \"normalizing\"\n"
     ]
    },
    {
     "name": "stderr",
     "output_type": "stream",
     "text": [
      "Warning message:\n",
      "“glm.fit: fitted rates numerically 0 occurred”"
     ]
    },
    {
     "name": "stdout",
     "output_type": "stream",
     "text": [
      "[1] \"run: 81\"\n",
      "[1] \"run: 81\"\n",
      "[1] \"normalizing\"\n"
     ]
    },
    {
     "name": "stderr",
     "output_type": "stream",
     "text": [
      "Warning message:\n",
      "“glm.fit: fitted rates numerically 0 occurred”"
     ]
    },
    {
     "name": "stdout",
     "output_type": "stream",
     "text": [
      "[1] \"run: 82\"\n",
      "[1] \"run: 82\"\n",
      "[1] \"normalizing\"\n"
     ]
    },
    {
     "name": "stderr",
     "output_type": "stream",
     "text": [
      "Warning message:\n",
      "“glm.fit: fitted rates numerically 0 occurred”"
     ]
    },
    {
     "name": "stdout",
     "output_type": "stream",
     "text": [
      "[1] \"run: 83\"\n",
      "[1] \"run: 83\"\n",
      "[1] \"normalizing\"\n"
     ]
    },
    {
     "name": "stderr",
     "output_type": "stream",
     "text": [
      "Warning message:\n",
      "“glm.fit: fitted rates numerically 0 occurred”"
     ]
    },
    {
     "name": "stdout",
     "output_type": "stream",
     "text": [
      "[1] \"run: 84\"\n",
      "[1] \"run: 84\"\n",
      "[1] \"normalizing\"\n"
     ]
    },
    {
     "name": "stderr",
     "output_type": "stream",
     "text": [
      "Warning message:\n",
      "“glm.fit: fitted rates numerically 0 occurred”"
     ]
    },
    {
     "name": "stdout",
     "output_type": "stream",
     "text": [
      "[1] \"run: 85\"\n",
      "[1] \"run: 85\"\n",
      "[1] \"normalizing\"\n"
     ]
    },
    {
     "name": "stderr",
     "output_type": "stream",
     "text": [
      "Warning message:\n",
      "“glm.fit: fitted rates numerically 0 occurred”"
     ]
    },
    {
     "name": "stdout",
     "output_type": "stream",
     "text": [
      "[1] \"run: 86\"\n",
      "[1] \"run: 86\"\n",
      "[1] \"normalizing\"\n"
     ]
    },
    {
     "name": "stderr",
     "output_type": "stream",
     "text": [
      "Warning message:\n",
      "“glm.fit: fitted rates numerically 0 occurred”"
     ]
    },
    {
     "name": "stdout",
     "output_type": "stream",
     "text": [
      "[1] \"run: 87\"\n",
      "[1] \"run: 87\"\n",
      "[1] \"normalizing\"\n"
     ]
    },
    {
     "name": "stderr",
     "output_type": "stream",
     "text": [
      "Warning message:\n",
      "“glm.fit: fitted rates numerically 0 occurred”"
     ]
    },
    {
     "name": "stdout",
     "output_type": "stream",
     "text": [
      "[1] \"run: 88\"\n",
      "[1] \"run: 88\"\n",
      "[1] \"normalizing\"\n"
     ]
    },
    {
     "name": "stderr",
     "output_type": "stream",
     "text": [
      "Warning message:\n",
      "“glm.fit: fitted rates numerically 0 occurred”"
     ]
    },
    {
     "name": "stdout",
     "output_type": "stream",
     "text": [
      "[1] \"run: 89\"\n",
      "[1] \"run: 89\"\n",
      "[1] \"normalizing\"\n"
     ]
    },
    {
     "name": "stderr",
     "output_type": "stream",
     "text": [
      "Warning message:\n",
      "“glm.fit: fitted rates numerically 0 occurred”"
     ]
    },
    {
     "name": "stdout",
     "output_type": "stream",
     "text": [
      "[1] \"run: 90\"\n",
      "[1] \"run: 90\"\n",
      "[1] \"normalizing\"\n"
     ]
    },
    {
     "name": "stderr",
     "output_type": "stream",
     "text": [
      "Warning message:\n",
      "“glm.fit: fitted rates numerically 0 occurred”"
     ]
    },
    {
     "name": "stdout",
     "output_type": "stream",
     "text": [
      "[1] \"run: 91\"\n",
      "[1] \"run: 91\"\n",
      "[1] \"normalizing\"\n"
     ]
    },
    {
     "name": "stderr",
     "output_type": "stream",
     "text": [
      "Warning message:\n",
      "“glm.fit: fitted rates numerically 0 occurred”"
     ]
    },
    {
     "name": "stdout",
     "output_type": "stream",
     "text": [
      "[1] \"run: 92\"\n",
      "[1] \"run: 92\"\n",
      "[1] \"normalizing\"\n"
     ]
    },
    {
     "name": "stderr",
     "output_type": "stream",
     "text": [
      "Warning message:\n",
      "“glm.fit: fitted rates numerically 0 occurred”"
     ]
    },
    {
     "name": "stdout",
     "output_type": "stream",
     "text": [
      "[1] \"run: 93\"\n",
      "[1] \"run: 93\"\n",
      "[1] \"normalizing\"\n"
     ]
    },
    {
     "name": "stderr",
     "output_type": "stream",
     "text": [
      "Warning message:\n",
      "“glm.fit: fitted rates numerically 0 occurred”"
     ]
    },
    {
     "name": "stdout",
     "output_type": "stream",
     "text": [
      "[1] \"run: 94\"\n",
      "[1] \"run: 94\"\n",
      "[1] \"normalizing\"\n"
     ]
    },
    {
     "name": "stderr",
     "output_type": "stream",
     "text": [
      "Warning message:\n",
      "“glm.fit: fitted rates numerically 0 occurred”"
     ]
    },
    {
     "name": "stdout",
     "output_type": "stream",
     "text": [
      "[1] \"run: 95\"\n",
      "[1] \"run: 95\"\n",
      "[1] \"normalizing\"\n"
     ]
    },
    {
     "name": "stderr",
     "output_type": "stream",
     "text": [
      "Warning message:\n",
      "“glm.fit: fitted rates numerically 0 occurred”"
     ]
    },
    {
     "name": "stdout",
     "output_type": "stream",
     "text": [
      "[1] \"run: 96\"\n",
      "[1] \"run: 96\"\n",
      "[1] \"normalizing\"\n"
     ]
    },
    {
     "name": "stderr",
     "output_type": "stream",
     "text": [
      "Warning message:\n",
      "“glm.fit: fitted rates numerically 0 occurred”"
     ]
    },
    {
     "name": "stdout",
     "output_type": "stream",
     "text": [
      "[1] \"run: 97\"\n",
      "[1] \"run: 97\"\n",
      "[1] \"normalizing\"\n"
     ]
    },
    {
     "name": "stderr",
     "output_type": "stream",
     "text": [
      "Warning message:\n",
      "“glm.fit: fitted rates numerically 0 occurred”"
     ]
    },
    {
     "name": "stdout",
     "output_type": "stream",
     "text": [
      "[1] \"run: 98\"\n",
      "[1] \"run: 98\"\n",
      "[1] \"normalizing\"\n"
     ]
    },
    {
     "name": "stderr",
     "output_type": "stream",
     "text": [
      "Warning message:\n",
      "“glm.fit: fitted rates numerically 0 occurred”"
     ]
    },
    {
     "name": "stdout",
     "output_type": "stream",
     "text": [
      "[1] \"run: 99\"\n",
      "[1] \"run: 99\"\n",
      "[1] \"normalizing\"\n"
     ]
    },
    {
     "name": "stderr",
     "output_type": "stream",
     "text": [
      "Warning message:\n",
      "“glm.fit: fitted rates numerically 0 occurred”"
     ]
    },
    {
     "name": "stdout",
     "output_type": "stream",
     "text": [
      "[1] \"run: 100\"\n",
      "[1] \"run: 100\"\n",
      "[1] \"normalizing\"\n"
     ]
    },
    {
     "name": "stderr",
     "output_type": "stream",
     "text": [
      "Warning message:\n",
      "“glm.fit: fitted rates numerically 0 occurred”"
     ]
    },
    {
     "name": "stdout",
     "output_type": "stream",
     "text": [
      "[1] \"run: 101\"\n",
      "[1] \"run: 101\"\n",
      "[1] \"normalizing\"\n"
     ]
    },
    {
     "name": "stderr",
     "output_type": "stream",
     "text": [
      "Warning message:\n",
      "“glm.fit: fitted rates numerically 0 occurred”Warning message in write.csv(import_df, paste(\"rf_impo_\", suffix, sep = \"\"), append = TRUE):\n",
      "“attempt to set 'append' ignored”"
     ]
    }
   ],
   "source": [
    "library(caret)\n",
    "library(randomForest)\n",
    "\n",
    "run_model = function(model_type, trn_data, trn_in_data, trn_out_data, tst_in_data, tst_out_data, fmla){\n",
    "  if (model_type == 'poisson'){\n",
    "    print('normalizing')\n",
    "  \ttrain_col_stds = apply(trn_in_data, 2, sd)\n",
    "  \ttrain_col_means = colMeans(trn_in_data)\n",
    "  \n",
    "  \ttrain_normalized = t((t(trn_in_data)-train_col_means)/train_col_stds)\n",
    "  \ttest_normalized = t((t(tst_in_data)-train_col_means)/train_col_stds)\n",
    "  \n",
    "  \tpca = prcomp(train_normalized)\n",
    "  \n",
    "  \ttrn_preprocessed = predict(pca, train_normalized)\n",
    "  \ttst_preprocessed = predict(pca, test_normalized)\n",
    "  \n",
    "  \tfmla = as.formula(paste(out_col_name, \"~\", paste(colnames(trn_preprocessed), collapse=\"+\")))\n",
    "  \n",
    "  \ttrain_data = cbind(as.data.frame(trn_preprocessed), num_flooded = model_data[prt$Resample1, out_col_name])\n",
    "  \ttrn_in_data = trn_preprocessed\n",
    "  \ttst_in_data = tst_preprocessed\n",
    "  \toutput = glm(fmla, data=train_data, family = poisson)\n",
    "  }\n",
    "  else if (model_type == 'rf'){\n",
    "\toutput = randomForest(fmla, data=trn_data, importance = TRUE, ntree=100, mtry=16)\n",
    "\timpo = as.data.frame(output$importance)\n",
    "\timpo = impo[,1]\n",
    "  }\n",
    "\n",
    "  pred_trn = predict(output, newdata = as.data.frame(trn_in_data), type='response')\n",
    "  pred_tst = predict(output, newdata = as.data.frame(tst_in_data), type='response')\n",
    "  \n",
    "  if (model_type == 'rf'){\n",
    "       return(list(pred_trn, pred_tst, impo))\n",
    "  }\n",
    "  else {\n",
    "       return(list(pred_trn, pred_tst))\n",
    "  }\n",
    "  \n",
    "}\n",
    "\n",
    "remove_cols= function(l, cols){\n",
    "    return(l[! l %in% cols])\n",
    "}\n",
    "\n",
    "\n",
    "\n",
    "df = read.csv('for_model_avgs.csv', )\n",
    "\n",
    "colnames(df)\n",
    "\n",
    "set.seed(5)\n",
    "\n",
    "df = df[df[,'rd']>0.01,]\n",
    "\n",
    "cols_to_remove = c('event_name', 'event_date', 'num_flooded')\n",
    "in_col_names = remove_cols(colnames(df), cols_to_remove)\n",
    "out_col_name = 'num_flooded'\n",
    "\n",
    "model_data = df[, append(in_col_names, out_col_name)]\n",
    "model_data = na.omit(model_data)\n",
    "\n",
    "import_df = data.frame(matrix(nrow=length(in_col_names)))\n",
    "all_pred_tst = c()\n",
    "all_pred_trn = c()\n",
    "all_tst = c()\n",
    "all_trn = c()\n",
    "fomla = as.formula(paste(out_col_name, \"~\", paste(in_col_names, collapse=\"+\")))\n",
    "model_types = c('rf', 'poisson')\n",
    "suffix = 'out'\n",
    "\n",
    "for (i in 1:101){\n",
    "  prt = createDataPartition(model_data[, out_col_name], p=0.7)\n",
    "  train_data = model_data[prt$Resample1,]\n",
    "  train_in_data = data.frame(train_data[, in_col_names])\n",
    "  colnames(train_in_data) = in_col_names\n",
    "  train_out_data = train_data[, out_col_name]\n",
    "  test_in_data = data.frame(model_data[-prt$Resample1, in_col_names])\n",
    "  colnames(test_in_data) = in_col_names\n",
    "  test_out_data = model_data[-prt$Resample1, out_col_name]\n",
    "  \n",
    "  for (model in model_types){\n",
    "\t  print(paste(\"run: \", i, sep = ''))\n",
    "    \n",
    "    model_results = run_model(model, train_data, train_in_data, train_out_data, test_in_data, test_out_data, fomla)\n",
    "\t  pred_train = model_results[1]\n",
    "\t  pred_test = model_results[2]\n",
    "\n",
    "\t  all_trn_df = data.frame(train_out_data, unlist(pred_train))\n",
    "\t  colnames(all_trn_df) = c('all_trn', 'all_pred_trn')\n",
    "\t  all_tst_df = data.frame(test_out_data, unlist(pred_test))\n",
    "\t  colnames(all_tst_df) = c('all_tst', 'all_pred_tst')\n",
    "\t  write.table(all_trn_df, paste(model, '_', suffix, '_train.csv', sep=\"\"), append=TRUE,  sep=\",\", col.names = F)\n",
    "\t  write.table(all_tst_df, paste(model, '_', suffix, '_test.csv', sep=\"\"), append=TRUE,  sep=\",\", col.names = F)\n",
    "\n",
    "\t  if (model == 'rf'){\n",
    "      impo = model_results[3]\n",
    "\t    import_df = cbind(import_df, impo)\n",
    "\t  }\n",
    "\t}\n",
    "}\n",
    "\n",
    "colnames(import_df) = 1:ncol(import_df)\n",
    "row.names(import_df) = in_col_names\n",
    "write.csv(import_df, paste('rf_impo_', suffix, sep=\"\"), append=TRUE)\n"
   ]
  },
  {
   "cell_type": "code",
   "execution_count": null,
   "metadata": {},
   "outputs": [],
   "source": []
  }
 ],
 "metadata": {
  "kernelspec": {
   "display_name": "R",
   "language": "R",
   "name": "ir"
  },
  "language_info": {
   "codemirror_mode": "r",
   "file_extension": ".r",
   "mimetype": "text/x-r-source",
   "name": "R",
   "pygments_lexer": "r",
   "version": "3.5.1"
  }
 },
 "nbformat": 4,
 "nbformat_minor": 2
}
